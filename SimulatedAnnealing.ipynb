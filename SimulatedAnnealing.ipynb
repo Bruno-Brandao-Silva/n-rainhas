{
 "cells": [
  {
   "cell_type": "markdown",
   "metadata": {},
   "source": [
    "Algoritmo Simulated Annealing\n",
    "\n",
    "Problema 8-Rainhas"
   ]
  },
  {
   "cell_type": "code",
   "execution_count": 73,
   "metadata": {},
   "outputs": [],
   "source": [
    "import random\n",
    "\n",
    "\n",
    "class State:\n",
    "    def __init__(self, state):\n",
    "        # state is a list (solution)\n",
    "        self.state = state\n",
    "\n",
    "    # number of attacks\n",
    "    def evaluation(self):\n",
    "        h = 0\n",
    "        # check for diagonal attacks\n",
    "        for i in range(0, len(self.state)):\n",
    "            for j in range(0, len(self.state)):\n",
    "                if j > i:\n",
    "                    if abs(i - j) == abs(self.state[i] - self.state[j]):\n",
    "                        h += 1\n",
    "                    # Evaluate each column for detecting attacks\n",
    "                    if abs(self.state[i] - self.state[j]) == 0:\n",
    "                        h += 1\n",
    "        return h\n",
    "\n",
    "    def getCurrentState(self):\n",
    "        return self.state\n",
    "\n",
    "    def neighbor(self):  # returns the best neighbor\n",
    "        # Dictionary with all possible solution for each queen\n",
    "        neighbors = {}\n",
    "        for i in range(0, len(self.state)):\n",
    "            for j in range(0, len(self.state)):\n",
    "                if j != self.state[i]:\n",
    "                    temp = self.state.copy()\n",
    "                    temp[i] = j\n",
    "                    # Generate a new solution list (state)\n",
    "                    temp = State(temp)\n",
    "                    # Evaluate the number of attacks (heuristic) for each new state\n",
    "                    neighbors[\n",
    "                        (i, j)\n",
    "                    ] = temp.evaluation()  # list of neighbors' evaluation value\n",
    "\n",
    "        best_neighbors = {}  # Store the best heuristic\n",
    "        best_h = (\n",
    "            self.evaluation()\n",
    "        )  # assign current state evaluation to the best evaluation\n",
    "\n",
    "        # Iterate dict itens (i,j)\n",
    "        # Where i is the key and h the value (number of attacks)\n",
    "        for i, h in neighbors.items():\n",
    "\n",
    "            # check if there is a better state than the current state\n",
    "            if h < best_h:\n",
    "                best_h = h\n",
    "                if len(best_neighbors) > 0:\n",
    "                    # reset the dictionary if a better h is found\n",
    "                    best_neighbors.clear()\n",
    "                best_neighbors[i] = best_h\n",
    "            if h <= best_h + 1:\n",
    "                best_neighbors[i] = best_h\n",
    "        # if there are more than one better solution then choose one of them randomly\n",
    "        # It is also possible to choose in a greedy way\n",
    "        if len(best_neighbors.keys()) > 0:\n",
    "            random_index = random.randint(0, len(best_neighbors.keys()) - 1)\n",
    "            list_neighbors = list(best_neighbors.keys())\n",
    "            self.state[list_neighbors[random_index][0]] = list_neighbors[random_index][\n",
    "                1\n",
    "            ]\n",
    "\n",
    "        return State(self.state)"
   ]
  },
  {
   "cell_type": "code",
   "execution_count": 74,
   "metadata": {},
   "outputs": [],
   "source": [
    "import numpy as np\n",
    "import matplotlib.pyplot as plt\n",
    "import seaborn as sns\n",
    "\n",
    "# board graphic\n",
    "\n",
    "\n",
    "def board(solution):\n",
    "    matrix = np.zeros([len(solution), len(solution)], dtype=int)\n",
    "    matrix = matrix.tolist()\n",
    "    for i in range(len(solution)):\n",
    "        matrix[solution[i]][i] = 1\n",
    "\n",
    "    l = []\n",
    "    for i in range(1, len(solution) + 1):\n",
    "        l.append(i)\n",
    "    plt.figure(figsize=(5, 5))\n",
    "    sns.heatmap(\n",
    "        matrix, linewidths=0.8, cbar=False, cmap=\"Set3\", xticklabels=l, yticklabels=l\n",
    "    )"
   ]
  },
  {
   "cell_type": "code",
   "execution_count": 75,
   "metadata": {},
   "outputs": [],
   "source": [
    "from random import shuffle\n",
    "\n",
    "initial_state = []\n",
    "for i in range(0, 8):\n",
    "    initial_state.append(i)\n",
    "shuffle(initial_state)"
   ]
  },
  {
   "cell_type": "code",
   "execution_count": 76,
   "metadata": {},
   "outputs": [
    {
     "name": "stdout",
     "output_type": "stream",
     "text": [
      "Estado Inicial:\t\t [7, 5, 3, 0, 2, 4, 1, 6] \t 3 ataques \tTemperatura: 512\n"
     ]
    },
    {
     "data": {
      "image/png": "[encoded data removed]",
      "text/plain": [
       "<Figure size 500x500 with 1 Axes>"
      ]
     },
     "metadata": {},
     "output_type": "display_data"
    }
   ],
   "source": [
    "from math import e\n",
    "\n",
    "\n",
    "def TemperaturaInicial(S):\n",
    "    # Calcula a temperatura inicial\n",
    "    return len(S.getCurrentState()) ** 3\n",
    "    # return 64000\n",
    "\n",
    "\n",
    "def LogBordState(S, state_str):\n",
    "    print(f\"{state_str}:\\t\\t {S.getCurrentState()} \\t {\n",
    "          S.evaluation()} ataques \\tTemperatura: {TemperaturaInicial(S)}\")\n",
    "    board(S.getCurrentState())\n",
    "\n",
    "# State, numero Maximo de Interações, numero Maximo de Perturbações por iteração,\n",
    "# numero Maximo de sucessos por iteração, Factor de redução da temperatura\n",
    "\n",
    "\n",
    "def SimulatedAnnealing(S, numMaxInter=64, numMaxPert=64, numMaxSuccess=32, a=0.95, canPrint=False):\n",
    "    execuções = 0\n",
    "    T = TemperaturaInicial(S)\n",
    "\n",
    "    j = 1\n",
    "    while True:\n",
    "        i = 1\n",
    "        numeroSucesso = 0\n",
    "        while True:\n",
    "            execuções += 1\n",
    "            Si = State(S.state.copy())\n",
    "            Si.neighbor()\n",
    "            delta = Si.evaluation() - S.evaluation()\n",
    "            if delta <= 0 or e ** (-delta / T) > random.random():\n",
    "                if canPrint:\n",
    "                    LogBordState(Si, \"Estado Aceito\")\n",
    "                S = Si\n",
    "                numeroSucesso = numeroSucesso + 1\n",
    "            else:\n",
    "                if canPrint:\n",
    "                    LogBordState(Si, \"Estado Rejeitado\")\n",
    "                i = i + 1\n",
    "            if numeroSucesso >= numMaxSuccess or i > numMaxPert or S.evaluation() == 0 or T < 0.00001:\n",
    "                break\n",
    "        T = a * T\n",
    "        j = j + 1\n",
    "        if numeroSucesso == 0 or j >= numMaxInter or S.evaluation() == 0 or T < 0.00001:\n",
    "            break\n",
    "    return S\n",
    "\n",
    "\n",
    "LogBordState(State(initial_state), \"Estado Inicial\")"
   ]
  },
  {
   "cell_type": "code",
   "execution_count": 77,
   "metadata": {},
   "outputs": [
    {
     "name": "stdout",
     "output_type": "stream",
     "text": [
      "Estado Final:\t\t [2, 5, 3, 0, 7, 4, 6, 1] \t 0 ataques \tTemperatura: 512\n"
     ]
    },
    {
     "data": {
      "image/png": "[encoded data removed]",
      "text/plain": [
       "<Figure size 500x500 with 1 Axes>"
      ]
     },
     "metadata": {},
     "output_type": "display_data"
    }
   ],
   "source": [
    "resp = SimulatedAnnealing(State(initial_state), 1024, 1024, 1, 0.95)\n",
    "LogBordState(resp, \"Estado Final\")"
   ]
  }
 ],
 "metadata": {
  "kernelspec": {
   "display_name": "Python 3.8.10 64-bit (microsoft store)",
   "language": "python",
   "name": "python3"
  },
  "language_info": {
   "codemirror_mode": {
    "name": "ipython",
    "version": 3
   },
   "file_extension": ".py",
   "mimetype": "text/x-python",
   "name": "python",
   "nbconvert_exporter": "python",
   "pygments_lexer": "ipython3",
   "version": "3.12.1"
  },
  "orig_nbformat": 4,
  "vscode": {
   "interpreter": {
    "hash": "10d2f525b5d04a96b21e5b0127e4980144951deae166830ef2f6646032acc3cf"
   }
  }
 },
 "nbformat": 4,
 "nbformat_minor": 2
}
