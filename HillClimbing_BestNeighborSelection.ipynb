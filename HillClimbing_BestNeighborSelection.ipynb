{
  "cells": [
    {
      "cell_type": "code",
      "execution_count": 9,
      "id": "456b836c",
      "metadata": {
        "id": "456b836c"
      },
      "outputs": [],
      "source": [
        "import random\n",
        "\n",
        "\n",
        "class State:\n",
        "    def __init__(self, state):\n",
        "        # state is a list (solution)\n",
        "        self.state = state\n",
        "\n",
        "    # number of attacks\n",
        "    def evaluation(self):\n",
        "        h = 0\n",
        "        # check for diagonal attacks\n",
        "        for i in range(0, len(self.state)):\n",
        "            for j in range(0, len(self.state)):\n",
        "                if j > i:\n",
        "                    if abs(i - j) == abs(self.state[i] - self.state[j]):\n",
        "                        h += 1\n",
        "                    # Evaluate each column for detecting attacks\n",
        "                    if abs(self.state[i] - self.state[j]) == 0:\n",
        "                        h += 1\n",
        "        return h\n",
        "\n",
        "    def getCurrentState(self):\n",
        "        return self.state\n",
        "\n",
        "    def neighbor(self):  # returns the best neighbor\n",
        "        # Dictionary with all possible solution for each queen\n",
        "        neighbors = {}\n",
        "        for i in range(0, len(self.state)):\n",
        "            for j in range(0, len(self.state)):\n",
        "                if j != self.state[i]:\n",
        "                    temp = self.state.copy()\n",
        "                    temp[i] = j\n",
        "                    # Generate a new solution list (state)\n",
        "                    temp = State(temp)\n",
        "                    # Evaluate the number of attacks (heuristic) for each new state\n",
        "                    # list of neighbors' evaluation value\n",
        "                    neighbors[(i, j)] = temp.evaluation()\n",
        "\n",
        "        best_neighbors = {}  # Store the best heuristic\n",
        "        best_h = self.evaluation()  # assign current state evaluation to the best evaluation\n",
        "\n",
        "        # Iterate dict itens (i,j)\n",
        "        # Where i is the key and h the value (number of attacks)\n",
        "        for i, h in neighbors.items():\n",
        "            # check if there is a better state than the current state\n",
        "            if h < best_h:\n",
        "                best_h = h\n",
        "                if len(best_neighbors) > 0:\n",
        "                    # reset the dictionary if a better h is found\n",
        "                    best_neighbors.clear()\n",
        "                best_neighbors[i] = best_h\n",
        "            if h == best_h:\n",
        "                best_neighbors[i] = best_h\n",
        "\n",
        "        # if there are more than one better solution then choose one of them randomly\n",
        "        # It is also possible to choose in a greedy way\n",
        "        if len(best_neighbors.keys()) > 0:\n",
        "            random_index = random.randint(0, len(best_neighbors.keys()) - 1)\n",
        "            list_neighbors = list(best_neighbors.keys())\n",
        "            self.state[list_neighbors[random_index]\n",
        "                       [0]] = list_neighbors[random_index][1]\n",
        "\n",
        "        return State(self.state)"
      ]
    },
    {
      "cell_type": "code",
      "execution_count": 10,
      "id": "0aa6a15f",
      "metadata": {
        "id": "0aa6a15f"
      },
      "outputs": [],
      "source": [
        "\n",
        "from random import shuffle\n",
        "import numpy as np\n",
        "import matplotlib.pyplot as plt\n",
        "import seaborn as sns\n",
        "\n",
        "# board graphic based on the solution\n",
        "\n",
        "\n",
        "def board(solution):\n",
        "    matrix = np.zeros([8, 8], dtype=int)\n",
        "    matrix = matrix.tolist()\n",
        "    for item in solution:\n",
        "        for i in range(len(solution)):\n",
        "            if i == item:\n",
        "                for j in range(len(solution)):\n",
        "                    if j == solution.index(item):\n",
        "                        matrix[i][j] = 1\n",
        "\n",
        "    l = []\n",
        "    for i in range(1, len(solution)+1):\n",
        "        l.append(i)\n",
        "\n",
        "    plt.figure(figsize=(5, 5))\n",
        "    sns.heatmap(matrix, linewidths=.8, cbar=False,\n",
        "                cmap='Set3', xticklabels=l, yticklabels=l)\n",
        "\n",
        "\n",
        "def hill_climbing(initial_state):\n",
        "    current_state = State(initial_state)\n",
        "    while True:\n",
        "        best_neighbor = current_state.neighbor()\n",
        "        if best_neighbor.evaluation() >= current_state.evaluation():\n",
        "            return current_state\n",
        "        current_state = best_neighbor\n",
        "\n",
        "\n",
        "def random_restart(initial_state):\n",
        "    state = State(initial_state)\n",
        "    count = 0\n",
        "    while State(initial_state).evaluation() > 0 & count < 5:\n",
        "        # Shuffle the solution (generate a new state)\n",
        "        shuffle(initial_state)\n",
        "        state = hill_climbing(initial_state)\n",
        "        count += 1\n",
        "    return state\n",
        "\n",
        "\n",
        "def simple_hill_climbing(initial_state):\n",
        "    state = State(initial_state)\n",
        "    count = 0\n",
        "    while State(initial_state).evaluation() > 0 & count < 5:\n",
        "        state = hill_climbing(initial_state)\n",
        "        initial_state = state.getCurrentState()\n",
        "        count += 1\n",
        "    return state"
      ]
    },
    {
      "cell_type": "code",
      "execution_count": 11,
      "id": "5379b481",
      "metadata": {
        "colab": {
          "base_uri": "https://localhost:8080/",
          "height": 1000
        },
        "id": "5379b481",
        "outputId": "1fb13731-e177-4d00-da62-8f91d8df4e31"
      },
      "outputs": [
        {
          "name": "stdout",
          "output_type": "stream",
          "text": [
            "[6, 1, 3, 0, 7, 4, 2, 5]\n"
          ]
        },
        {
          "data": {
            "image/png": "[encoded data removed]",
            "text/plain": [
              "<Figure size 500x500 with 1 Axes>"
            ]
          },
          "metadata": {},
          "output_type": "display_data"
        }
      ],
      "source": [
        "\n",
        "initial_state = [0, 1, 3, 0, 7, 5, 2, 1]\n",
        "solution = simple_hill_climbing(initial_state)\n",
        "print(solution.getCurrentState())\n",
        "board(solution.getCurrentState())\n"
      ]
    },
    {
      "cell_type": "code",
      "execution_count": 12,
      "id": "qhkqHrmR27Jb",
      "metadata": {
        "colab": {
          "base_uri": "https://localhost:8080/",
          "height": 1000
        },
        "id": "qhkqHrmR27Jb",
        "outputId": "da1c4c17-0230-492f-c439-52d34939a19a"
      },
      "outputs": [
        {
          "name": "stdout",
          "output_type": "stream",
          "text": [
            "[4, 7, 3, 0, 2, 5, 1, 6]\n"
          ]
        },
        {
          "data": {
            "image/png": "[encoded data removed]",
            "text/plain": [
              "<Figure size 500x500 with 1 Axes>"
            ]
          },
          "metadata": {},
          "output_type": "display_data"
        }
      ],
      "source": [
        "initial_state = [0, 1, 3, 0, 7, 5, 2, 1]\n",
        "solution = random_restart(initial_state)\n",
        "print(solution.getCurrentState())\n",
        "board(solution.getCurrentState())"
      ]
    }
  ],
  "metadata": {
    "colab": {
      "collapsed_sections": [],
      "provenance": []
    },
    "kernelspec": {
      "display_name": "Python 3.8.10 64-bit (microsoft store)",
      "language": "python",
      "name": "python3"
    },
    "language_info": {
      "codemirror_mode": {
        "name": "ipython",
        "version": 3
      },
      "file_extension": ".py",
      "mimetype": "text/x-python",
      "name": "python",
      "nbconvert_exporter": "python",
      "pygments_lexer": "ipython3",
      "version": "3.12.1"
    },
    "vscode": {
      "interpreter": {
        "hash": "10d2f525b5d04a96b21e5b0127e4980144951deae166830ef2f6646032acc3cf"
      }
    }
  },
  "nbformat": 4,
  "nbformat_minor": 5
}
